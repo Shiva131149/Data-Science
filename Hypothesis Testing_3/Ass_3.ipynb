{
 "cells": [
  {
   "cell_type": "markdown",
   "metadata": {},
   "source": [
    "# <font color = 'orange'>Q1)"
   ]
  },
  {
   "cell_type": "code",
   "execution_count": 1,
   "metadata": {},
   "outputs": [
    {
     "name": "stdout",
     "output_type": "stream",
     "text": [
      "Fail to reject the null hypothesis: No significant difference detected.\n",
      "T-statistic: 0.7229\n",
      "P-value: 0.4722\n"
     ]
    }
   ],
   "source": [
    "import pandas as pd\n",
    "from scipy.stats import ttest_ind\n",
    "\n",
    "# Data for Unit A and Unit B \n",
    "data = pd.read_csv(r\"S:\\Excler Assignments\\Hypothesis Testing_3\\Cutlets.csv\")\n",
    "unit_a = data['Unit A']\n",
    "unit_b = data['Unit B']\n",
    "\n",
    "# Perform the t-test\n",
    "t_statistic, p_value = ttest_ind(a = unit_a, b = unit_b)\n",
    "\n",
    "# Set significance level (alpha)\n",
    "alpha = 0.05\n",
    "\n",
    "# Compare p-value with alpha\n",
    "if p_value < alpha:\n",
    "    print(\"Reject the null hypothesis: There is a significant difference in cutlet diameters.\")\n",
    "else:\n",
    "    print(\"Fail to reject the null hypothesis: No significant difference detected.\")\n",
    "\n",
    "# Display results\n",
    "print(f\"T-statistic: {t_statistic:.4f}\")\n",
    "print(f\"P-value: {p_value:.4f}\")\n"
   ]
  },
  {
   "cell_type": "markdown",
   "metadata": {},
   "source": [
    "# <font color = 'green'>Q2)"
   ]
  },
  {
   "cell_type": "code",
   "execution_count": 2,
   "metadata": {},
   "outputs": [
    {
     "name": "stdout",
     "output_type": "stream",
     "text": [
      "Reject the null hypothesis: There is a significant difference in TAT among 4 laboratories  \n",
      "T-statistic: 118.7042\n",
      "P-value: 0.0000\n"
     ]
    }
   ],
   "source": [
    "import pandas as pd\n",
    "from scipy.stats import f_oneway\n",
    "\n",
    "# Import data\n",
    "data = pd.read_csv(r\"S:\\Excler Assignments\\Hypothesis Testing_3\\LabTAT.csv\")\n",
    "\n",
    "# Perform F_oneway ANOVA Test\n",
    "t_statistic, p_value = f_oneway(data.iloc[:,0],data.iloc[:,1],data.iloc[:,2],data.iloc[:,3])\n",
    "\n",
    "# Compare p-value with alpha\n",
    "if p_value < alpha:\n",
    "    print(\"Reject the null hypothesis: There is a significant difference in TAT among 4 laboratories  \")\n",
    "else:\n",
    "    print(\"Fail to reject the null hypothesis: No significant difference in TAT among 4 laboratories.\")\n",
    "\n",
    "# Display results\n",
    "print(f\"T-statistic: {t_statistic:.4f}\")\n",
    "print(f\"P-value: {p_value:.4f}\")"
   ]
  },
  {
   "cell_type": "markdown",
   "metadata": {},
   "source": [
    "# <font color = 'yellow'> Q3)"
   ]
  },
  {
   "cell_type": "code",
   "execution_count": 3,
   "metadata": {},
   "outputs": [
    {
     "name": "stdout",
     "output_type": "stream",
     "text": [
      " The P_Value is:0.6603\n",
      " The Degree of freedom is:3.0000\n",
      " Contingency table is:\n",
      "         East         West        North       South\n",
      "0   42.765313   146.812879   131.117568   72.304241\n",
      "1  442.234687  1518.187121  1355.882432  747.695759\n",
      "Reject null hypothesis,therefore not all proportions are equal\n"
     ]
    }
   ],
   "source": [
    "#import requied mudules\n",
    "import pandas as pd\n",
    "import numpy as np\n",
    "from scipy.stats import chi2_contingency as chi\n",
    "import warnings\n",
    "warnings.filterwarnings(\"ignore\")\n",
    "data = pd.read_csv(r\"S:\\Excler Assignments\\Hypothesis Testing_3\\BuyerRatio.csv\")\n",
    "#print(data)\n",
    "\n",
    "# Create a contingency table \n",
    "crosstab = data[['East', 'West', 'North', 'South']].to_numpy()\n",
    "#print(crosstab)\n",
    "#print(type(crosstab))\n",
    "alpha = 0.05\n",
    "\n",
    "stats, p_val, DoF, Expected_val = chi(crosstab)\n",
    "print(f\" The P_Value is:{p_val:.4f}\\n\",f\"The Degree of freedom is:{DoF:.4f}\")\n",
    "print(f\" Contingency table is:\\n{pd.DataFrame(Expected_val, columns = [['East', 'West', 'North', 'South']])}\")\n",
    "if p_val < alpha:\n",
    "    print(\"Accept All proportions are equal\")\n",
    "else:\n",
    "    print(\"Reject null hypothesis,therefore not all proportions are equal\")"
   ]
  },
  {
   "cell_type": "markdown",
   "metadata": {},
   "source": [
    "# <font color='red'>Q4)"
   ]
  },
  {
   "cell_type": "code",
   "execution_count": 4,
   "metadata": {},
   "outputs": [
    {
     "name": "stdout",
     "output_type": "stream",
     "text": [
      "   Phillippines  Indonesia  Malta  India\n",
      "0             1          1      0      1\n",
      "1             1          1      1      0\n",
      "2             1          0      0      1\n",
      "3             1          1      1      1\n",
      "4             1          1      0      1\n",
      " The P_Value is:1.0000\n",
      " The Degree of freedom is:897.0000\n",
      "Accept null hypothesis,There is no significant defective % varies by centre\n"
     ]
    }
   ],
   "source": [
    "import pandas as pd\n",
    "from scipy.stats import chi2_contingency as chi\n",
    "data = pd.read_csv(r\"S:\\Excler Assignments\\Hypothesis Testing_3\\Costomer+OrderForm.csv\")\n",
    "#contingency = pd.crosstab(index=data['Phillippines'], columns=[data['Indonesia'], data['Malta'], data['India']])\n",
    "data = data.replace({'Error Free':1,'Defective':0})\n",
    "crosstab=data[['Phillippines','Indonesia','Malta','India']].to_numpy()\n",
    "print(data[:5])\n",
    "alpha = 0.05\n",
    "stats,p_val,DoF,Expected_val = chi(crosstab)\n",
    "print(f\" The P_Value is:{p_val:.4f}\\n\",f\"The Degree of freedom is:{DoF:.4f}\")\n",
    "#print(f\" Contingency table is:\\n{pd.DataFrame(Expected_val, columns = [['Phillippines','Indonesia','Malta','India']])}\")\n",
    "if p_val > alpha:\n",
    "    print(\"Accept null hypothesis,There is no significant defective % varies by centre\")\n",
    "else:\n",
    "    print(\"Reject null hypothesis,There is a significant defective % varies by centre\")\n"
   ]
  }
 ],
 "metadata": {
  "kernelspec": {
   "display_name": "base",
   "language": "python",
   "name": "python3"
  },
  "language_info": {
   "codemirror_mode": {
    "name": "ipython",
    "version": 3
   },
   "file_extension": ".py",
   "mimetype": "text/x-python",
   "name": "python",
   "nbconvert_exporter": "python",
   "pygments_lexer": "ipython3",
   "version": "3.10.9"
  },
  "orig_nbformat": 4
 },
 "nbformat": 4,
 "nbformat_minor": 2
}
